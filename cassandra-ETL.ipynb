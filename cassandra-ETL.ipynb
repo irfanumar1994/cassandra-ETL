{
 "cells": [
  {
   "cell_type": "markdown",
   "metadata": {},
   "source": [
    "# Part I. ETL Pipeline for Pre-Processing the Files"
   ]
  },
  {
   "cell_type": "markdown",
   "metadata": {},
   "source": [
    "#### Import Python packages "
   ]
  },
  {
   "cell_type": "code",
   "execution_count": 1,
   "metadata": {},
   "outputs": [],
   "source": [
    "# Import Python packages \n",
    "import os\n",
    "import glob\n",
    "import pandas as pd\n",
    "import numpy as np\n",
    "import cassandra"
   ]
  },
  {
   "cell_type": "markdown",
   "metadata": {},
   "source": [
    "#### Creating list of filepaths to process original event csv data files"
   ]
  },
  {
   "cell_type": "code",
   "execution_count": 2,
   "metadata": {},
   "outputs": [],
   "source": [
    "# Write your code here\n",
    "filepath= r\"D:\\youtube_event_data\"\n",
    "fileNames = []\n",
    "for root, dirs, files in os.walk(filepath):\n",
    "    files = glob.glob(os.path.join(root, '*.csv'))\n",
    "    for name in files:\n",
    "        current = os.path.abspath(name)\n",
    "        fileNames.append(current)"
   ]
  },
  {
   "cell_type": "markdown",
   "metadata": {},
   "source": [
    "#### Processing the CSV files to create the new `youtube_events_data_new.csv` file"
   ]
  },
  {
   "cell_type": "code",
   "execution_count": 3,
   "metadata": {},
   "outputs": [
    {
     "data": {
      "text/plain": [
       "(8056, 17)"
      ]
     },
     "execution_count": 3,
     "metadata": {},
     "output_type": "execute_result"
    }
   ],
   "source": [
    "# Write your code here\n",
    "All_df = pd.DataFrame()\n",
    "for currentFile in fileNames:\n",
    "    df = pd.read_csv(currentFile)\n",
    "#     print(\"before \", df.shape)\n",
    "    All_df = All_df.append(df, ignore_index = True)\n",
    "#     print(\"After \", All_df.shape)\n",
    "    \n",
    "All_df.shape"
   ]
  },
  {
   "cell_type": "code",
   "execution_count": 35,
   "metadata": {},
   "outputs": [],
   "source": [
    "All_df.to_csv (r'youtube_events_data_new.csv', index = False, header=True)"
   ]
  },
  {
   "cell_type": "code",
   "execution_count": 4,
   "metadata": {},
   "outputs": [
    {
     "name": "stdout",
     "output_type": "stream",
     "text": [
      "8057\n"
     ]
    }
   ],
   "source": [
    "# check the number of rows in your new csv file\n",
    "with open('youtube_events_data_new.csv', 'r', encoding = 'utf8') as f:\n",
    "    print(sum(1 for line in f))"
   ]
  },
  {
   "cell_type": "code",
   "execution_count": 5,
   "metadata": {},
   "outputs": [
    {
     "data": {
      "text/html": [
       "<div>\n",
       "<style scoped>\n",
       "    .dataframe tbody tr th:only-of-type {\n",
       "        vertical-align: middle;\n",
       "    }\n",
       "\n",
       "    .dataframe tbody tr th {\n",
       "        vertical-align: top;\n",
       "    }\n",
       "\n",
       "    .dataframe thead th {\n",
       "        text-align: right;\n",
       "    }\n",
       "</style>\n",
       "<table border=\"1\" class=\"dataframe\">\n",
       "  <thead>\n",
       "    <tr style=\"text-align: right;\">\n",
       "      <th></th>\n",
       "      <th>youtuber</th>\n",
       "      <th>auth</th>\n",
       "      <th>firstName</th>\n",
       "      <th>gender</th>\n",
       "      <th>itemInSession</th>\n",
       "      <th>lastName</th>\n",
       "      <th>length</th>\n",
       "      <th>level</th>\n",
       "      <th>location</th>\n",
       "      <th>method</th>\n",
       "      <th>page</th>\n",
       "      <th>registration</th>\n",
       "      <th>sessionId</th>\n",
       "      <th>video</th>\n",
       "      <th>status</th>\n",
       "      <th>ts</th>\n",
       "      <th>userId</th>\n",
       "    </tr>\n",
       "  </thead>\n",
       "  <tbody>\n",
       "    <tr>\n",
       "      <th>0</th>\n",
       "      <td>NaN</td>\n",
       "      <td>Logged In</td>\n",
       "      <td>Walter</td>\n",
       "      <td>M</td>\n",
       "      <td>0</td>\n",
       "      <td>Frye</td>\n",
       "      <td>NaN</td>\n",
       "      <td>free</td>\n",
       "      <td>San Francisco-Oakland-Hayward, CA</td>\n",
       "      <td>GET</td>\n",
       "      <td>Home</td>\n",
       "      <td>1.540920e+12</td>\n",
       "      <td>38</td>\n",
       "      <td>NaN</td>\n",
       "      <td>200</td>\n",
       "      <td>1.541110e+12</td>\n",
       "      <td>39.0</td>\n",
       "    </tr>\n",
       "    <tr>\n",
       "      <th>1</th>\n",
       "      <td>NaN</td>\n",
       "      <td>Logged In</td>\n",
       "      <td>Kaylee</td>\n",
       "      <td>F</td>\n",
       "      <td>0</td>\n",
       "      <td>Summers</td>\n",
       "      <td>NaN</td>\n",
       "      <td>free</td>\n",
       "      <td>Phoenix-Mesa-Scottsdale, AZ</td>\n",
       "      <td>GET</td>\n",
       "      <td>Home</td>\n",
       "      <td>1.540340e+12</td>\n",
       "      <td>139</td>\n",
       "      <td>NaN</td>\n",
       "      <td>200</td>\n",
       "      <td>1.541110e+12</td>\n",
       "      <td>8.0</td>\n",
       "    </tr>\n",
       "    <tr>\n",
       "      <th>2</th>\n",
       "      <td>Des'ree</td>\n",
       "      <td>Logged In</td>\n",
       "      <td>Kaylee</td>\n",
       "      <td>F</td>\n",
       "      <td>1</td>\n",
       "      <td>Summers</td>\n",
       "      <td>246.30812</td>\n",
       "      <td>free</td>\n",
       "      <td>Phoenix-Mesa-Scottsdale, AZ</td>\n",
       "      <td>PUT</td>\n",
       "      <td>NextVideo</td>\n",
       "      <td>1.540340e+12</td>\n",
       "      <td>139</td>\n",
       "      <td>You Gotta Be</td>\n",
       "      <td>200</td>\n",
       "      <td>1.541110e+12</td>\n",
       "      <td>8.0</td>\n",
       "    </tr>\n",
       "    <tr>\n",
       "      <th>3</th>\n",
       "      <td>NaN</td>\n",
       "      <td>Logged In</td>\n",
       "      <td>Kaylee</td>\n",
       "      <td>F</td>\n",
       "      <td>2</td>\n",
       "      <td>Summers</td>\n",
       "      <td>NaN</td>\n",
       "      <td>free</td>\n",
       "      <td>Phoenix-Mesa-Scottsdale, AZ</td>\n",
       "      <td>GET</td>\n",
       "      <td>Upgrade</td>\n",
       "      <td>1.540340e+12</td>\n",
       "      <td>139</td>\n",
       "      <td>NaN</td>\n",
       "      <td>200</td>\n",
       "      <td>1.541110e+12</td>\n",
       "      <td>8.0</td>\n",
       "    </tr>\n",
       "    <tr>\n",
       "      <th>4</th>\n",
       "      <td>Mr Oizo</td>\n",
       "      <td>Logged In</td>\n",
       "      <td>Kaylee</td>\n",
       "      <td>F</td>\n",
       "      <td>3</td>\n",
       "      <td>Summers</td>\n",
       "      <td>144.03873</td>\n",
       "      <td>free</td>\n",
       "      <td>Phoenix-Mesa-Scottsdale, AZ</td>\n",
       "      <td>PUT</td>\n",
       "      <td>NextVideo</td>\n",
       "      <td>1.540340e+12</td>\n",
       "      <td>139</td>\n",
       "      <td>Flat 55</td>\n",
       "      <td>200</td>\n",
       "      <td>1.541110e+12</td>\n",
       "      <td>8.0</td>\n",
       "    </tr>\n",
       "  </tbody>\n",
       "</table>\n",
       "</div>"
      ],
      "text/plain": [
       "  youtuber       auth firstName gender  itemInSession lastName     length  \\\n",
       "0      NaN  Logged In    Walter      M              0     Frye        NaN   \n",
       "1      NaN  Logged In    Kaylee      F              0  Summers        NaN   \n",
       "2  Des'ree  Logged In    Kaylee      F              1  Summers  246.30812   \n",
       "3      NaN  Logged In    Kaylee      F              2  Summers        NaN   \n",
       "4  Mr Oizo  Logged In    Kaylee      F              3  Summers  144.03873   \n",
       "\n",
       "  level                           location method       page  registration  \\\n",
       "0  free  San Francisco-Oakland-Hayward, CA    GET       Home  1.540920e+12   \n",
       "1  free        Phoenix-Mesa-Scottsdale, AZ    GET       Home  1.540340e+12   \n",
       "2  free        Phoenix-Mesa-Scottsdale, AZ    PUT  NextVideo  1.540340e+12   \n",
       "3  free        Phoenix-Mesa-Scottsdale, AZ    GET    Upgrade  1.540340e+12   \n",
       "4  free        Phoenix-Mesa-Scottsdale, AZ    PUT  NextVideo  1.540340e+12   \n",
       "\n",
       "   sessionId         video  status            ts  userId  \n",
       "0         38           NaN     200  1.541110e+12    39.0  \n",
       "1        139           NaN     200  1.541110e+12     8.0  \n",
       "2        139  You Gotta Be     200  1.541110e+12     8.0  \n",
       "3        139           NaN     200  1.541110e+12     8.0  \n",
       "4        139       Flat 55     200  1.541110e+12     8.0  "
      ]
     },
     "execution_count": 5,
     "metadata": {},
     "output_type": "execute_result"
    }
   ],
   "source": [
    "All_df.head()"
   ]
  },
  {
   "cell_type": "code",
   "execution_count": null,
   "metadata": {},
   "outputs": [],
   "source": []
  },
  {
   "cell_type": "markdown",
   "metadata": {},
   "source": [
    "# Part II. Complete the Apache Cassandra coding portion of your project. "
   ]
  },
  {
   "cell_type": "markdown",
   "metadata": {},
   "source": [
    "**TODO: You have to complete the cell below with your `youtube_events_data_new.csv`columns and a screenshot of CSV file data**"
   ]
  },
  {
   "cell_type": "markdown",
   "metadata": {},
   "source": [
    "## The new CSV file titled `youtube_events_data_new.csv`, The event_datafile_new.csv contains the following columns: \n",
    "\n",
    "\n",
    "youtuber\n",
    "auth\n",
    "firstName\n",
    "gender\n",
    "itemInSession\n",
    "lastName\n",
    "length\n",
    "level\n",
    "location\n",
    "method\n",
    "page\n",
    "registration\n",
    "sessionId\n",
    "video\n",
    "status\n",
    "ts\n",
    "userId\n",
    "\n",
    "\n",
    "The image below is a screenshot of what the denormalized data should appear like in the <font color=red>**youtube_events_data_new.csv**</font> after the code above is run:<br>\n",
    "\n",
    "<img src=\"images/i.JPG\">"
   ]
  },
  {
   "cell_type": "markdown",
   "metadata": {},
   "source": [
    "#### Creating a Cluster"
   ]
  },
  {
   "cell_type": "code",
   "execution_count": 10,
   "metadata": {},
   "outputs": [],
   "source": [
    "# Create a Cassandra Cluster\n",
    "from cassandra.cluster import Cluster\n",
    "try: \n",
    "    cluster = Cluster(['127.0.0.1']) #If you have a locally installed Apache Cassandra instance\n",
    "    session = cluster.connect()\n",
    "except Exception as e:\n",
    "    print(e)"
   ]
  },
  {
   "cell_type": "markdown",
   "metadata": {},
   "source": [
    "#### Create Keyspace `youtubedb`"
   ]
  },
  {
   "cell_type": "code",
   "execution_count": 11,
   "metadata": {},
   "outputs": [],
   "source": [
    "try:\n",
    "    session.execute(\"\"\"\n",
    "    CREATE KEYSPACE IF NOT EXISTS youtubedb \n",
    "    WITH REPLICATION = \n",
    "    { 'class' : 'SimpleStrategy', 'replication_factor' : 1 }\"\"\"\n",
    ")\n",
    "\n",
    "except Exception as e:\n",
    "    print(e)"
   ]
  },
  {
   "cell_type": "markdown",
   "metadata": {},
   "source": [
    "#### Set Keyspace `youtubedb`"
   ]
  },
  {
   "cell_type": "code",
   "execution_count": 12,
   "metadata": {},
   "outputs": [],
   "source": [
    "try:\n",
    "    session.set_keyspace('youtubedb')\n",
    "except Exception as e:\n",
    "    print(e)"
   ]
  },
  {
   "cell_type": "markdown",
   "metadata": {},
   "source": [
    "## Create queries to ask the following three questions of the data\n",
    "\n",
    "1. Give me the youtuber, video title and video's length in the YouTube app history that was heard during  sessionId = 338, and itemInSession  = 4\n",
    "\n",
    "\n",
    "2. Give me only the following: name of youtuber, video (sorted by itemInSession) and user (first and last name) for userid = 10, sessionid = 182\n",
    "    \n",
    "\n",
    "3. Give me every user name (first and last) in my YouTube app history who watched the video 'All Hands Against His Own'"
   ]
  },
  {
   "cell_type": "markdown",
   "metadata": {},
   "source": []
  },
  {
   "cell_type": "markdown",
   "metadata": {},
   "source": [
    "### Give me the youtuber, video title and video's length in the YouTube app history that was heard during sessionId = 338, and itemInSession = 4"
   ]
  },
  {
   "cell_type": "code",
   "execution_count": 13,
   "metadata": {},
   "outputs": [],
   "source": [
    "query = \"CREATE TABLE IF NOT EXISTS table1 \"\n",
    "query = query + \"(sessionId varint, itemInSession varint, youtuber text, \\\n",
    "video text, length text, PRIMARY KEY (sessionId, itemInSession))\"\n",
    "try:\n",
    "    session.execute(query)\n",
    "except Exception as e:\n",
    "    print(e)"
   ]
  },
  {
   "cell_type": "code",
   "execution_count": 17,
   "metadata": {},
   "outputs": [
    {
     "name": "stdout",
     "output_type": "stream",
     "text": [
      "inserted\n"
     ]
    }
   ],
   "source": [
    "insert = \"INSERT INTO table1 (sessionId, itemInSession, youtuber, video, length) VALUES (%s,%s,%s,%s,%s)\"\n",
    "for i in All_df.index:\n",
    "    table1_data= (All_df.loc[i]['sessionId'],All_df.loc[i]['itemInSession'],str(All_df.loc[i]['youtuber']),str(All_df.loc[i]['video']),str(All_df.loc[i]['length']))\n",
    "    session.execute(insert,table1_data)\n",
    "print('inserted')\n",
    "    "
   ]
  },
  {
   "cell_type": "code",
   "execution_count": 18,
   "metadata": {},
   "outputs": [
    {
     "name": "stdout",
     "output_type": "stream",
     "text": [
      "Row(sessionid=338, iteminsession=4, length='495.3073', video='Music Matters (Mark Knight Dub)', youtuber='Faithless')\n"
     ]
    }
   ],
   "source": [
    "read = \"SELECT * from table1 WHERE sessionId = 338 AND itemInSession = 4\"\n",
    "rows = session.execute(read)\n",
    "for r in rows:\n",
    "    print(r)"
   ]
  },
  {
   "cell_type": "markdown",
   "metadata": {},
   "source": [
    "### Give me only the following: name of youtuber, video (sorted by itemInSession) and user (first and last name) for userid = 10, sessionid = 182"
   ]
  },
  {
   "cell_type": "code",
   "execution_count": 23,
   "metadata": {},
   "outputs": [],
   "source": [
    "#################################################################\n",
    "query = \"CREATE TABLE IF NOT EXISTS table2 \"\n",
    "query = query + \"(sessionId varint, userId text, itemInSession varint, youtuber text, video text, firstName text,\\\n",
    "lastName text, PRIMARY KEY ((userId, sessionId), itemInSession))\"\n",
    "try:\n",
    "    session.execute(query)\n",
    "except Exception as e:\n",
    "    print(e)"
   ]
  },
  {
   "cell_type": "code",
   "execution_count": 24,
   "metadata": {},
   "outputs": [
    {
     "name": "stdout",
     "output_type": "stream",
     "text": [
      "inserted\n"
     ]
    }
   ],
   "source": [
    "insert = insert = \"INSERT INTO table2 (sessionId, userId,itemInSession, youtuber, video, firstName,lastName) VALUES (%s,%s,%s,%s,%s,%s,%s)\"\n",
    "for i in All_df.index:\n",
    "    table2_data= (All_df.loc[i]['sessionId'],str(All_df.loc[i]['userId']),All_df.loc[i]['itemInSession'],str(All_df.loc[i]['youtuber']),str(All_df.loc[i]['video']),str(All_df.loc[i]['firstName']),str(All_df.loc[i]['lastName']))\n",
    "    session.execute(insert,table2_data)\n",
    "print('inserted')\n",
    "    \n"
   ]
  },
  {
   "cell_type": "code",
   "execution_count": 25,
   "metadata": {},
   "outputs": [
    {
     "name": "stdout",
     "output_type": "stream",
     "text": [
      "Row(iteminsession=0, youtuber='Down To The Bone', video=\"Keep On Keepin' On\", firstname='Sylvie', lastname='Cruz')\n",
      "Row(iteminsession=1, youtuber='Three Drives', video='Greece 2000', firstname='Sylvie', lastname='Cruz')\n",
      "Row(iteminsession=2, youtuber='Sebastien Tellier', video='Kilometer', firstname='Sylvie', lastname='Cruz')\n",
      "Row(iteminsession=3, youtuber='Lonnie Gordon', video='Catch You Baby (Steve Pitron & Max Sanna Radio Edit)', firstname='Sylvie', lastname='Cruz')\n"
     ]
    }
   ],
   "source": [
    "query = \"select itemInSession, youtuber, video, firstName, lastName from table2 \\\n",
    "WHERE userId = '10.0' AND sessionId =182\"\n",
    "rows = session.execute(query)\n",
    "    \n",
    "for r in rows:\n",
    "    print (r)"
   ]
  },
  {
   "cell_type": "markdown",
   "metadata": {},
   "source": [
    "### Give me every user name (first and last) in my YouTube app history who watched the video 'All Hands Against His Own'"
   ]
  },
  {
   "cell_type": "code",
   "execution_count": 26,
   "metadata": {},
   "outputs": [],
   "source": [
    "query = \"CREATE TABLE IF NOT EXISTS table3 \"\n",
    "query = query + \"(video text, userId text, sessionId varint, \\\n",
    "itemInSession varint, firstName text, lastName text,  PRIMARY KEY (video, userId))\"\n",
    "try:\n",
    "    session.execute(query)\n",
    "except Exception as e:\n",
    "    print(e)"
   ]
  },
  {
   "cell_type": "code",
   "execution_count": 28,
   "metadata": {},
   "outputs": [
    {
     "name": "stdout",
     "output_type": "stream",
     "text": [
      "inserted\n"
     ]
    }
   ],
   "source": [
    "insert = insert = \"INSERT INTO table3 (video,userId,sessionId ,itemInSession,firstName,lastName) VALUES (%s,%s,%s,%s,%s,%s)\"\n",
    "for i in All_df.index:\n",
    "    table3_data= (str(All_df.loc[i]['video']),str(All_df.loc[i]['userId']),All_df.loc[i]['sessionId'],All_df.loc[i]['itemInSession'],str(All_df.loc[i]['firstName']),str(All_df.loc[i]['lastName']))\n",
    "    session.execute(insert,table3_data)\n",
    "print('inserted')"
   ]
  },
  {
   "cell_type": "code",
   "execution_count": 30,
   "metadata": {},
   "outputs": [
    {
     "name": "stdout",
     "output_type": "stream",
     "text": [
      "Row(firstname='Jacqueline', lastname='Lynch')\n",
      "Row(firstname='Tegan', lastname='Levine')\n",
      "Row(firstname='Sara', lastname='Johnson')\n"
     ]
    }
   ],
   "source": [
    "query = \"SELECT firstName, lastName from table3 WHERE video='All Hands Against His Own'\"\n",
    "rows = session.execute(query)\n",
    "    \n",
    "for r in rows:\n",
    "    print (r)"
   ]
  },
  {
   "cell_type": "markdown",
   "metadata": {},
   "source": [
    "### Drop the tables before closing out the sessions"
   ]
  },
  {
   "cell_type": "code",
   "execution_count": 31,
   "metadata": {},
   "outputs": [
    {
     "data": {
      "text/plain": [
       "<cassandra.cluster.ResultSet at 0x27af5df7940>"
      ]
     },
     "execution_count": 31,
     "metadata": {},
     "output_type": "execute_result"
    }
   ],
   "source": [
    "session.execute(\"drop table table1\")\n",
    "session.execute(\"drop table table2\")\n",
    "session.execute(\"drop table table3\")"
   ]
  },
  {
   "cell_type": "markdown",
   "metadata": {},
   "source": [
    "### Close the session and cluster connection¶"
   ]
  },
  {
   "cell_type": "code",
   "execution_count": 32,
   "metadata": {},
   "outputs": [],
   "source": [
    "session.shutdown()\n",
    "cluster.shutdown()"
   ]
  },
  {
   "cell_type": "code",
   "execution_count": null,
   "metadata": {},
   "outputs": [],
   "source": []
  }
 ],
 "metadata": {
  "kernelspec": {
   "display_name": "Python 3",
   "language": "python",
   "name": "python3"
  },
  "language_info": {
   "codemirror_mode": {
    "name": "ipython",
    "version": 3
   },
   "file_extension": ".py",
   "mimetype": "text/x-python",
   "name": "python",
   "nbconvert_exporter": "python",
   "pygments_lexer": "ipython3",
   "version": "3.7.3"
  }
 },
 "nbformat": 4,
 "nbformat_minor": 2
}
